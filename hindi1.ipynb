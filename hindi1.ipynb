{
  "nbformat": 4,
  "nbformat_minor": 0,
  "metadata": {
    "colab": {
      "provenance": [],
      "authorship_tag": "ABX9TyPkaNgiVFjj5kdjK4REO2lq",
      "include_colab_link": true
    },
    "kernelspec": {
      "name": "python3",
      "display_name": "Python 3"
    },
    "language_info": {
      "name": "python"
    }
  },
  "cells": [
    {
      "cell_type": "markdown",
      "metadata": {
        "id": "view-in-github",
        "colab_type": "text"
      },
      "source": [
        "<a href=\"https://colab.research.google.com/github/Vyankteshv/new/blob/main/hindi1.ipynb\" target=\"_parent\"><img src=\"https://colab.research.google.com/assets/colab-badge.svg\" alt=\"Open In Colab\"/></a>"
      ]
    },
    {
      "cell_type": "code",
      "source": [],
      "metadata": {
        "id": "KBm2hAJfniTk"
      },
      "execution_count": null,
      "outputs": []
    },
    {
      "cell_type": "code",
      "source": [],
      "metadata": {
        "id": "fcp-Nol5xUpK"
      },
      "execution_count": null,
      "outputs": []
    },
    {
      "source": [
        "!pip install indicnlp"
      ],
      "cell_type": "code",
      "metadata": {
        "colab": {
          "base_uri": "https://localhost:8080/"
        },
        "id": "0_jjgeJmxuRo",
        "outputId": "4622ed63-88fa-4833-b67c-8449cdc92ee0"
      },
      "execution_count": 13,
      "outputs": [
        {
          "output_type": "stream",
          "name": "stdout",
          "text": [
            "Collecting indicnlp\n",
            "  Downloading indicnlp-0.0.1-py3-none-any.whl (13 kB)\n",
            "Installing collected packages: indicnlp\n",
            "Successfully installed indicnlp-0.0.1\n"
          ]
        }
      ]
    },
    {
      "source": [
        "!pip install indicnlp"
      ],
      "cell_type": "code",
      "metadata": {
        "colab": {
          "base_uri": "https://localhost:8080/"
        },
        "id": "Qhw4VLsQ3K9N",
        "outputId": "5806de11-a921-497e-b07d-43e816d76713"
      },
      "execution_count": 15,
      "outputs": [
        {
          "output_type": "stream",
          "name": "stdout",
          "text": [
            "Requirement already satisfied: indicnlp in /usr/local/lib/python3.10/dist-packages (0.0.1)\n"
          ]
        }
      ]
    },
    {
      "source": [
        "# Install the required packages\n",
        "!pip install git+https://github.com/AI4Bharat/indic_nlp_library.git\n",
        "!pip install git+https://github.com/AI4Bharat/indic_transliteration.git\n",
        "!pip install git+https://github.com/AI4Bharat/vistaar.git\n",
        "\n",
        "# Import the necessary modules\n",
        "from indicnlp.transliterate.unicode_transliterate import UnicodeIndicTransliterator\n",
        "from indicnlp.tokenize import indic_tokenize\n",
        "from vistaar.text import Text\n",
        "from vistaar.audio import Audio\n",
        "from vistaar.models import WhisperModel\n",
        "\n",
        "# Define the Indic language\n",
        "indic_language = \"hi\"\n",
        "\n",
        "# Initialize the Indic NLP resources\n",
        "transliterator = UnicodeIndicTransliterator.from_language_code(indic_language)\n",
        "tokenizer = indic_tokenize.trivial_tokenize\n",
        "\n",
        "# Load the Whisper model\n",
        "model = WhisperModel(language=indic_language)\n",
        "\n",
        "# Load the audio and text files\n",
        "audio_filepath = \"path/to/audio_file.wav\"\n",
        "text_filepath = \"path/to/text_file.txt\"\n",
        "\n",
        "# Read the audio and text data\n",
        "with open(audio_filepath, \"rb\") as f:\n",
        "    audio_bytes = f.read()\n",
        "\n",
        "with open(text_filepath, \"r\") as f:\n",
        "    text = f.read()\n",
        "\n",
        "# Transliterate the text to Unicode\n",
        "text = transliterator.transliterate(text)\n",
        "\n",
        "# Tokenize the text\n",
        "text_tokens = tokenizer(text)\n",
        "\n",
        "# Create the Audio and Text objects\n",
        "audio = Audio(audio_bytes=audio_bytes)\n",
        "text = Text(text=text_tokens)\n",
        "\n",
        "# Perform speech recognition using Whisper\n",
        "result = model.transcribe(audio=audio, text=text)\n",
        "\n",
        "# Calculate the Word Error Rate (WER)\n",
        "wer = result.calculate_wer()\n",
        "\n",
        "# Print the WER\n",
        "print(\"WER:\", wer)"
      ],
      "cell_type": "code",
      "metadata": {
        "colab": {
          "base_uri": "https://localhost:8080/",
          "height": 1000
        },
        "id": "YUmgitbdxjTk",
        "outputId": "fe6d9141-59fa-4055-f42b-4d1db4c5b9ed"
      },
      "execution_count": 16,
      "outputs": [
        {
          "output_type": "stream",
          "name": "stdout",
          "text": [
            "Collecting git+https://github.com/AI4Bharat/indic_nlp_library.git\n",
            "  Cloning https://github.com/AI4Bharat/indic_nlp_library.git to /tmp/pip-req-build-f3juotk9\n",
            "  Running command git clone --filter=blob:none --quiet https://github.com/AI4Bharat/indic_nlp_library.git /tmp/pip-req-build-f3juotk9\n",
            "  fatal: could not read Username for 'https://github.com': No such device or address\n",
            "  \u001b[1;31merror\u001b[0m: \u001b[1msubprocess-exited-with-error\u001b[0m\n",
            "  \n",
            "  \u001b[31m×\u001b[0m \u001b[32mgit clone --\u001b[0m\u001b[32mfilter\u001b[0m\u001b[32m=\u001b[0m\u001b[32mblob\u001b[0m\u001b[32m:none --quiet \u001b[0m\u001b[4;32mhttps://github.com/AI4Bharat/indic_nlp_library.git\u001b[0m\u001b[32m \u001b[0m\u001b[32m/tmp/\u001b[0m\u001b[32mpip-req-build-f3juotk9\u001b[0m did not run successfully.\n",
            "  \u001b[31m│\u001b[0m exit code: \u001b[1;36m128\u001b[0m\n",
            "  \u001b[31m╰─>\u001b[0m See above for output.\n",
            "  \n",
            "  \u001b[1;35mnote\u001b[0m: This error originates from a subprocess, and is likely not a problem with pip.\n",
            "\u001b[1;31merror\u001b[0m: \u001b[1msubprocess-exited-with-error\u001b[0m\n",
            "\n",
            "\u001b[31m×\u001b[0m \u001b[32mgit clone --\u001b[0m\u001b[32mfilter\u001b[0m\u001b[32m=\u001b[0m\u001b[32mblob\u001b[0m\u001b[32m:none --quiet \u001b[0m\u001b[4;32mhttps://github.com/AI4Bharat/indic_nlp_library.git\u001b[0m\u001b[32m \u001b[0m\u001b[32m/tmp/\u001b[0m\u001b[32mpip-req-build-f3juotk9\u001b[0m did not run successfully.\n",
            "\u001b[31m│\u001b[0m exit code: \u001b[1;36m128\u001b[0m\n",
            "\u001b[31m╰─>\u001b[0m See above for output.\n",
            "\n",
            "\u001b[1;35mnote\u001b[0m: This error originates from a subprocess, and is likely not a problem with pip.\n",
            "Collecting git+https://github.com/AI4Bharat/indic_transliteration.git\n",
            "  Cloning https://github.com/AI4Bharat/indic_transliteration.git to /tmp/pip-req-build-ljy6w8e2\n",
            "  Running command git clone --filter=blob:none --quiet https://github.com/AI4Bharat/indic_transliteration.git /tmp/pip-req-build-ljy6w8e2\n",
            "  fatal: could not read Username for 'https://github.com': No such device or address\n",
            "  \u001b[1;31merror\u001b[0m: \u001b[1msubprocess-exited-with-error\u001b[0m\n",
            "  \n",
            "  \u001b[31m×\u001b[0m \u001b[32mgit clone --\u001b[0m\u001b[32mfilter\u001b[0m\u001b[32m=\u001b[0m\u001b[32mblob\u001b[0m\u001b[32m:none --quiet \u001b[0m\u001b[4;32mhttps://github.com/AI4Bharat/indic_transliteration.git\u001b[0m\u001b[32m \u001b[0m\u001b[32m/tmp/\u001b[0m\u001b[32mpip-req-build-ljy6w8e2\u001b[0m did not run successfully.\n",
            "  \u001b[31m│\u001b[0m exit code: \u001b[1;36m128\u001b[0m\n",
            "  \u001b[31m╰─>\u001b[0m See above for output.\n",
            "  \n",
            "  \u001b[1;35mnote\u001b[0m: This error originates from a subprocess, and is likely not a problem with pip.\n",
            "\u001b[1;31merror\u001b[0m: \u001b[1msubprocess-exited-with-error\u001b[0m\n",
            "\n",
            "\u001b[31m×\u001b[0m \u001b[32mgit clone --\u001b[0m\u001b[32mfilter\u001b[0m\u001b[32m=\u001b[0m\u001b[32mblob\u001b[0m\u001b[32m:none --quiet \u001b[0m\u001b[4;32mhttps://github.com/AI4Bharat/indic_transliteration.git\u001b[0m\u001b[32m \u001b[0m\u001b[32m/tmp/\u001b[0m\u001b[32mpip-req-build-ljy6w8e2\u001b[0m did not run successfully.\n",
            "\u001b[31m│\u001b[0m exit code: \u001b[1;36m128\u001b[0m\n",
            "\u001b[31m╰─>\u001b[0m See above for output.\n",
            "\n",
            "\u001b[1;35mnote\u001b[0m: This error originates from a subprocess, and is likely not a problem with pip.\n",
            "Collecting git+https://github.com/AI4Bharat/vistaar.git\n",
            "  Cloning https://github.com/AI4Bharat/vistaar.git to /tmp/pip-req-build-eymq3k83\n",
            "  Running command git clone --filter=blob:none --quiet https://github.com/AI4Bharat/vistaar.git /tmp/pip-req-build-eymq3k83\n",
            "  Resolved https://github.com/AI4Bharat/vistaar.git to commit a3bdd7815e31d3afc54d37f11f082cccd95f3556\n",
            "\u001b[31mERROR: git+https://github.com/AI4Bharat/vistaar.git does not appear to be a Python project: neither 'setup.py' nor 'pyproject.toml' found.\u001b[0m\u001b[31m\n",
            "\u001b[0m"
          ]
        },
        {
          "output_type": "error",
          "ename": "ModuleNotFoundError",
          "evalue": "No module named 'indicnlp.transliterate'",
          "traceback": [
            "\u001b[0;31m---------------------------------------------------------------------------\u001b[0m",
            "\u001b[0;31mModuleNotFoundError\u001b[0m                       Traceback (most recent call last)",
            "\u001b[0;32m<ipython-input-16-3f5338d28707>\u001b[0m in \u001b[0;36m<cell line: 7>\u001b[0;34m()\u001b[0m\n\u001b[1;32m      5\u001b[0m \u001b[0;34m\u001b[0m\u001b[0m\n\u001b[1;32m      6\u001b[0m \u001b[0;31m# Import the necessary modules\u001b[0m\u001b[0;34m\u001b[0m\u001b[0;34m\u001b[0m\u001b[0m\n\u001b[0;32m----> 7\u001b[0;31m \u001b[0;32mfrom\u001b[0m \u001b[0mindicnlp\u001b[0m\u001b[0;34m.\u001b[0m\u001b[0mtransliterate\u001b[0m\u001b[0;34m.\u001b[0m\u001b[0municode_transliterate\u001b[0m \u001b[0;32mimport\u001b[0m \u001b[0mUnicodeIndicTransliterator\u001b[0m\u001b[0;34m\u001b[0m\u001b[0;34m\u001b[0m\u001b[0m\n\u001b[0m\u001b[1;32m      8\u001b[0m \u001b[0;32mfrom\u001b[0m \u001b[0mindicnlp\u001b[0m\u001b[0;34m.\u001b[0m\u001b[0mtokenize\u001b[0m \u001b[0;32mimport\u001b[0m \u001b[0mindic_tokenize\u001b[0m\u001b[0;34m\u001b[0m\u001b[0;34m\u001b[0m\u001b[0m\n\u001b[1;32m      9\u001b[0m \u001b[0;32mfrom\u001b[0m \u001b[0mvistaar\u001b[0m\u001b[0;34m.\u001b[0m\u001b[0mtext\u001b[0m \u001b[0;32mimport\u001b[0m \u001b[0mText\u001b[0m\u001b[0;34m\u001b[0m\u001b[0;34m\u001b[0m\u001b[0m\n",
            "\u001b[0;31mModuleNotFoundError\u001b[0m: No module named 'indicnlp.transliterate'",
            "",
            "\u001b[0;31m---------------------------------------------------------------------------\u001b[0;32m\nNOTE: If your import is failing due to a missing package, you can\nmanually install dependencies using either !pip or !apt.\n\nTo view examples of installing some common dependencies, click the\n\"Open Examples\" button below.\n\u001b[0;31m---------------------------------------------------------------------------\u001b[0m\n"
          ],
          "errorDetails": {
            "actions": [
              {
                "action": "open_url",
                "actionText": "Open Examples",
                "url": "/notebooks/snippets/importing_libraries.ipynb"
              }
            ]
          }
        }
      ]
    }
  ]
}